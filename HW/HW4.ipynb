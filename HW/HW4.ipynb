{
 "cells": [
  {
   "cell_type": "markdown",
   "id": "fe8a2f46-7a88-4337-beb6-c9ebe97aabda",
   "metadata": {},
   "source": [
    "Условие: используйте источник rate, напишите код, который создаст дополнительный столбец, который будет выводить сумму только нечётных чисел."
   ]
  },
  {
   "cell_type": "code",
   "execution_count": 2,
   "id": "465daffc-b237-4765-92b1-375e1442b25a",
   "metadata": {},
   "outputs": [
    {
     "name": "stdout",
     "output_type": "stream",
     "text": [
      "Requirement already satisfied: pyspark in c:\\users\\olesya\\anaconda3\\lib\\site-packages (3.5.1)\n",
      "Requirement already satisfied: py4j==0.10.9.7 in c:\\users\\olesya\\anaconda3\\lib\\site-packages (from pyspark) (0.10.9.7)\n"
     ]
    }
   ],
   "source": [
    "!pip install pyspark"
   ]
  },
  {
   "cell_type": "code",
   "execution_count": null,
   "id": "c74b4b8f-85c1-4ba8-bf75-79c9544817e4",
   "metadata": {},
   "outputs": [],
   "source": [
    "# Импорт необходимых модулей\n",
    "from pyspark.sql import SparkSession\n",
    "from pyspark.sql import functions as F\n",
    "\n",
    "# Создание сессии SparkSession\n",
    "spark = SparkSession.builder \\\n",
    "    .master(\"local\") \\\n",
    "    .getOrCreate()"
   ]
  },
  {
   "cell_type": "code",
   "execution_count": null,
   "id": "aadfeee8-2cd0-421b-a854-bce0ff9bec5f",
   "metadata": {},
   "outputs": [],
   "source": [
    "# Создание потока данных (стрима)\n",
    "rate_stream = spark \\\n",
    "    .readStream \\\n",
    "    .format(\"rate\") \\\n",
    "    .load()"
   ]
  },
  {
   "cell_type": "code",
   "execution_count": null,
   "id": "8320b764-a8e3-4ef6-a4b8-4850ca924e80",
   "metadata": {},
   "outputs": [],
   "source": [
    "# Операция для подсчета суммы нечетных чисел\n",
    "odd_rate_sum = rate_stream \\\n",
    "    .groupBy() \\\n",
    "    .agg(F.sum(F.when(F.col(\"value\") % 2 != 0, \n",
    "                      F.col(\"value\")).otherwise('next')) \\\n",
    "    .alias(\"odd_value_sum\"))\n"
   ]
  },
  {
   "cell_type": "code",
   "execution_count": null,
   "id": "3132da10-1c7c-4f80-a9c6-04556e7258d3",
   "metadata": {},
   "outputs": [],
   "source": [
    "# Вывести поток данных\n",
    "query = odd_rate_sum \\\n",
    "    .writeStream \\\n",
    "    .outputMode(\"complete\") \\\n",
    "    .format(\"console\") \\\n",
    "    .start()"
   ]
  },
  {
   "cell_type": "code",
   "execution_count": null,
   "id": "f1cb60e5-83c6-42d8-aff2-9a1fccb2e1ca",
   "metadata": {},
   "outputs": [],
   "source": [
    "# Подождать, пока обработка потока данных не будет завершена\n",
    "query.awaitTermination()\n",
    "query.stop()"
   ]
  }
 ],
 "metadata": {
  "kernelspec": {
   "display_name": "Python 3 (ipykernel)",
   "language": "python",
   "name": "python3"
  },
  "language_info": {
   "codemirror_mode": {
    "name": "ipython",
    "version": 3
   },
   "file_extension": ".py",
   "mimetype": "text/x-python",
   "name": "python",
   "nbconvert_exporter": "python",
   "pygments_lexer": "ipython3",
   "version": "3.10.14"
  }
 },
 "nbformat": 4,
 "nbformat_minor": 5
}
