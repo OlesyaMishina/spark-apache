{
  "nbformat": 4,
  "nbformat_minor": 0,
  "metadata": {
    "colab": {
      "provenance": []
    },
    "kernelspec": {
      "name": "python3",
      "display_name": "Python 3"
    },
    "language_info": {
      "name": "python"
    }
  },
  "cells": [
    {
      "cell_type": "markdown",
      "source": [
        "## Spark Apache\n",
        "\n",
        "### Инструменты работы и визуализации ч.2\n",
        "\n",
        "Условие: есть набор данных о продажах продуктов с информацией о дате продаж, категории продукта, количестве и выручке от продаж.\n",
        "\n",
        "Используя Apache Spark, загрузите предоставленный набор данных в DataFrame (пример данных ниже).\n",
        "\n",
        "(\"2023-11-20\", \"Electronics\", 100, 12000),\n",
        "(\"2023-11-21\", \"Electronics\", 110, 13000),\n",
        "(\"2023-11-22\", \"Electronics\", 105, 12500),\n",
        "(\"2023-11-20\", \"Clothing\", 300, 15000),\n",
        "(\"2023-11-21\", \"Clothing\", 280, 14000),\n",
        "(\"2023-11-22\", \"Clothing\", 320, 16000),\n",
        "(\"2023-11-20\", \"Books\", 150, 9000),\n",
        "(\"2023-11-21\", \"Books\", 200, 12000),\n",
        "(\"2023-11-22\", \"Books\", 180, 10000)\n",
        "\n",
        "Столбцы: \"date\", \"category\", \"quantity\", \"revenue\".\n",
        "\n",
        "С использованием оконных функций, рассчитайте среднее выручки от продаж для каждой категории продукта.\n",
        "Примените операцию pivot для того, чтобы преобразовать полученные данные таким образом, чтобы в качестве строк были категории продуктов, в качестве столбцов были дни, а значениями были средние значения выручки от продаж за соответствующий день"
      ],
      "metadata": {
        "id": "rqmIGkPPhYgg"
      }
    },
    {
      "cell_type": "code",
      "execution_count": 3,
      "metadata": {
        "colab": {
          "base_uri": "https://localhost:8080/"
        },
        "collapsed": true,
        "id": "aQja2li1hEg9",
        "outputId": "199c7987-01c2-429f-a528-f0646ec89892"
      },
      "outputs": [
        {
          "output_type": "stream",
          "name": "stdout",
          "text": [
            "Collecting pyspark\n",
            "  Downloading pyspark-3.5.1.tar.gz (317.0 MB)\n",
            "\u001b[2K     \u001b[90m━━━━━━━━━━━━━━━━━━━━━━━━━━━━━━━━━━━━━━━━\u001b[0m \u001b[32m317.0/317.0 MB\u001b[0m \u001b[31m3.8 MB/s\u001b[0m eta \u001b[36m0:00:00\u001b[0m\n",
            "\u001b[?25h  Preparing metadata (setup.py) ... \u001b[?25l\u001b[?25hdone\n",
            "Requirement already satisfied: py4j==0.10.9.7 in /usr/local/lib/python3.10/dist-packages (from pyspark) (0.10.9.7)\n",
            "Building wheels for collected packages: pyspark\n",
            "  Building wheel for pyspark (setup.py) ... \u001b[?25l\u001b[?25hdone\n",
            "  Created wheel for pyspark: filename=pyspark-3.5.1-py2.py3-none-any.whl size=317488491 sha256=62b7d7ca0576a2e6881064fec37a25253ee09dcfa0b5b6691a2129efa553a304\n",
            "  Stored in directory: /root/.cache/pip/wheels/80/1d/60/2c256ed38dddce2fdd93be545214a63e02fbd8d74fb0b7f3a6\n",
            "Successfully built pyspark\n",
            "Installing collected packages: pyspark\n",
            "Successfully installed pyspark-3.5.1\n"
          ]
        }
      ],
      "source": [
        "! pip install pyspark"
      ]
    },
    {
      "cell_type": "code",
      "source": [
        "from pyspark.sql import SparkSession\n",
        "from pyspark.sql.window import Window\n",
        "from pyspark.sql.functions import avg\n",
        "import pyspark.sql.functions as F"
      ],
      "metadata": {
        "id": "T_rk4nX_nRvK"
      },
      "execution_count": 8,
      "outputs": []
    },
    {
      "cell_type": "code",
      "source": [
        "spark = SparkSession.builder.appName(\"WindowFunctionExample\").getOrCreate()\n",
        "\n",
        "# Создаем DF\n",
        "data = [(\"2023-11-20\", \"Electronics\", 100, 12000), (\"2023-11-21\", \"Electronics\", 110, 13000), (\"2023-11-22\", \"Electronics\", 105, 12500),\n",
        "  (\"2023-11-20\", \"Clothing\", 300, 15000), (\"2023-11-21\", \"Clothing\", 280, 14000), (\"2023-11-22\", \"Clothing\", 320, 16000),\n",
        "  (\"2023-11-20\", \"Books\", 150, 9000), (\"2023-11-21\", \"Books\", 200, 12000), (\"2023-11-22\", \"Books\", 180, 10000)]\n",
        "\n",
        "df = spark.createDataFrame(data, [\"date\", \"category\", \"quantity\", \"revenue\"])\n",
        "\n",
        "df.show()\n"
      ],
      "metadata": {
        "colab": {
          "base_uri": "https://localhost:8080/"
        },
        "id": "Vm8dk1uvbWW-",
        "outputId": "84efd324-f4a9-4164-c5ea-b10880d0febc"
      },
      "execution_count": 26,
      "outputs": [
        {
          "output_type": "stream",
          "name": "stdout",
          "text": [
            "+----------+-----------+--------+-------+\n",
            "|      date|   category|quantity|revenue|\n",
            "+----------+-----------+--------+-------+\n",
            "|2023-11-20|Electronics|     100|  12000|\n",
            "|2023-11-21|Electronics|     110|  13000|\n",
            "|2023-11-22|Electronics|     105|  12500|\n",
            "|2023-11-20|   Clothing|     300|  15000|\n",
            "|2023-11-21|   Clothing|     280|  14000|\n",
            "|2023-11-22|   Clothing|     320|  16000|\n",
            "|2023-11-20|      Books|     150|   9000|\n",
            "|2023-11-21|      Books|     200|  12000|\n",
            "|2023-11-22|      Books|     180|  10000|\n",
            "+----------+-----------+--------+-------+\n",
            "\n"
          ]
        }
      ]
    },
    {
      "cell_type": "code",
      "source": [
        "# Оконная функция для нахождения среднего значения выручки по категориям\n",
        "avg_revenue_window = Window.partitionBy(\"category\", \"date\").orderBy(\"date\")\n",
        "# Вычисление среднего значения выручки по категории\n",
        "avg_revenue = F.avg('revenue').over(avg_revenue_window)\n",
        "# Применение оконной функции к DataFrame\n",
        "result_df = df.withColumn(\"avg_revenue\", avg_revenue)\n",
        "result_df.show()"
      ],
      "metadata": {
        "colab": {
          "base_uri": "https://localhost:8080/"
        },
        "id": "Pnvt7vjC9TNw",
        "outputId": "34838961-ed25-4865-9bbe-6fec090bb9a6"
      },
      "execution_count": 31,
      "outputs": [
        {
          "output_type": "stream",
          "name": "stdout",
          "text": [
            "+----------+-----------+--------+-------+-----------+\n",
            "|      date|   category|quantity|revenue|avg_revenue|\n",
            "+----------+-----------+--------+-------+-----------+\n",
            "|2023-11-20|      Books|     150|   9000|     9000.0|\n",
            "|2023-11-21|      Books|     200|  12000|    12000.0|\n",
            "|2023-11-22|      Books|     180|  10000|    10000.0|\n",
            "|2023-11-20|   Clothing|     300|  15000|    15000.0|\n",
            "|2023-11-21|   Clothing|     280|  14000|    14000.0|\n",
            "|2023-11-22|   Clothing|     320|  16000|    16000.0|\n",
            "|2023-11-20|Electronics|     100|  12000|    12000.0|\n",
            "|2023-11-21|Electronics|     110|  13000|    13000.0|\n",
            "|2023-11-22|Electronics|     105|  12500|    12500.0|\n",
            "+----------+-----------+--------+-------+-----------+\n",
            "\n"
          ]
        }
      ]
    },
    {
      "cell_type": "code",
      "source": [
        "# Выполняем операцию pivot, чтобы получить таблицу с категориями в строках и днями в столбцах\n",
        "df_pivot = result_df .groupBy(\"category\").pivot(\"date\").agg(avg(\"avg_revenue\"))\n",
        "df_pivot.show()"
      ],
      "metadata": {
        "colab": {
          "base_uri": "https://localhost:8080/"
        },
        "id": "Xzhg11jcAZSR",
        "outputId": "a6227d8f-14b5-4e97-c990-05b9edc8a188"
      },
      "execution_count": 32,
      "outputs": [
        {
          "output_type": "stream",
          "name": "stdout",
          "text": [
            "+-----------+----------+----------+----------+\n",
            "|   category|2023-11-20|2023-11-21|2023-11-22|\n",
            "+-----------+----------+----------+----------+\n",
            "|Electronics|   12000.0|   13000.0|   12500.0|\n",
            "|   Clothing|   15000.0|   14000.0|   16000.0|\n",
            "|      Books|    9000.0|   12000.0|   10000.0|\n",
            "+-----------+----------+----------+----------+\n",
            "\n"
          ]
        }
      ]
    },
    {
      "cell_type": "code",
      "source": [],
      "metadata": {
        "id": "Oh4nWYuTB22I"
      },
      "execution_count": null,
      "outputs": []
    }
  ]
}