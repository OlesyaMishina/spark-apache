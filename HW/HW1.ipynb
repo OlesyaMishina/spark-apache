{
  "nbformat": 4,
  "nbformat_minor": 0,
  "metadata": {
    "colab": {
      "provenance": []
    },
    "kernelspec": {
      "name": "python3",
      "display_name": "Python 3"
    },
    "language_info": {
      "name": "python"
    }
  },
  "cells": [
    {
      "cell_type": "markdown",
      "source": [
        "Найти самую длинную последовательность упорядоченных чисел в RDD и вывести её"
      ],
      "metadata": {
        "id": "bCwrxXYAmuF2"
      }
    },
    {
      "cell_type": "code",
      "source": [
        "!pip install pyspark"
      ],
      "metadata": {
        "colab": {
          "base_uri": "https://localhost:8080/"
        },
        "id": "4k4r91n8nrZ_",
        "outputId": "0e9620d7-2d20-44b3-eeed-e19f1d4cdf44"
      },
      "execution_count": 2,
      "outputs": [
        {
          "output_type": "stream",
          "name": "stdout",
          "text": [
            "Collecting pyspark\n",
            "  Downloading pyspark-3.5.1.tar.gz (317.0 MB)\n",
            "\u001b[2K     \u001b[90m━━━━━━━━━━━━━━━━━━━━━━━━━━━━━━━━━━━━━━━━\u001b[0m \u001b[32m317.0/317.0 MB\u001b[0m \u001b[31m2.9 MB/s\u001b[0m eta \u001b[36m0:00:00\u001b[0m\n",
            "\u001b[?25h  Preparing metadata (setup.py) ... \u001b[?25l\u001b[?25hdone\n",
            "Requirement already satisfied: py4j==0.10.9.7 in /usr/local/lib/python3.10/dist-packages (from pyspark) (0.10.9.7)\n",
            "Building wheels for collected packages: pyspark\n",
            "  Building wheel for pyspark (setup.py) ... \u001b[?25l\u001b[?25hdone\n",
            "  Created wheel for pyspark: filename=pyspark-3.5.1-py2.py3-none-any.whl size=317488491 sha256=f06eb8b6133f85c3b19197e8c29fa720a8d515d97c271d7f58399579ce0718d2\n",
            "  Stored in directory: /root/.cache/pip/wheels/80/1d/60/2c256ed38dddce2fdd93be545214a63e02fbd8d74fb0b7f3a6\n",
            "Successfully built pyspark\n",
            "Installing collected packages: pyspark\n",
            "Successfully installed pyspark-3.5.1\n"
          ]
        }
      ]
    },
    {
      "cell_type": "code",
      "execution_count": 3,
      "metadata": {
        "id": "n3d_jGnSmhZi"
      },
      "outputs": [],
      "source": [
        "import pyspark\n",
        "from pyspark import SparkContext\n",
        "import random\n"
      ]
    },
    {
      "cell_type": "code",
      "source": [
        "data = [random.randint(1, 50) for _ in range(50)]\n",
        "sc.stop()\n",
        "sc = SparkContext(\"local\", \"Longest Sequence\")\n",
        "rdd = sc.parallelize(data)\n",
        "print(rdd.collect(), end='')"
      ],
      "metadata": {
        "colab": {
          "base_uri": "https://localhost:8080/"
        },
        "id": "kCSS5u4VL_ZY",
        "outputId": "7e15a042-21e6-4df8-a837-ea2c5213dd21"
      },
      "execution_count": 45,
      "outputs": [
        {
          "output_type": "stream",
          "name": "stdout",
          "text": [
            "[25, 17, 24, 13, 41, 40, 1, 45, 6, 21, 41, 36, 18, 4, 35, 24, 31, 6, 18, 3, 5, 25, 11, 1, 35, 25, 26, 26, 7, 36, 38, 34, 1, 24, 41, 38, 6, 32, 23, 38, 50, 46, 45, 11, 20, 36, 27, 2, 27, 19]"
          ]
        }
      ]
    },
    {
      "cell_type": "code",
      "source": [
        "# Функция находит возрастающую последовательность\n",
        "def ascending_sequence(numbers):\n",
        "  sequences = []\n",
        "  seq = [data[0]]\n",
        "  for x in data[1:]:\n",
        "    if x >= seq[-1]:\n",
        "        seq.append(x)\n",
        "    else:\n",
        "        sequences.append(seq)\n",
        "        seq = [x]\n",
        "  if seq:\n",
        "    sequences.append(seq)\n",
        "\n",
        "  return sequences"
      ],
      "metadata": {
        "id": "aRebd9QNMkk9"
      },
      "execution_count": 46,
      "outputs": []
    },
    {
      "cell_type": "code",
      "source": [
        "# Функция находит убывающую последовательность\n",
        "def descending_sequence(numbers):\n",
        "  sequences = []\n",
        "  seq = [data[0]]\n",
        "  for x in data[1:]:\n",
        "    if x <= seq[-1]:\n",
        "        seq.append(x)\n",
        "    else:\n",
        "        sequences.append(seq)\n",
        "        seq = [x]\n",
        "  if seq:\n",
        "    sequences.append(seq)\n",
        "\n",
        "  return sequences"
      ],
      "metadata": {
        "id": "LESqaF8EPOMh"
      },
      "execution_count": 47,
      "outputs": []
    },
    {
      "cell_type": "code",
      "source": [
        "sequences_asc = rdd.glom().flatMap(ascending_sequence)\n",
        "sequences_desc = rdd.glom().flatMap(descending_sequence)\n"
      ],
      "metadata": {
        "id": "PFZfaXzpObCB"
      },
      "execution_count": 48,
      "outputs": []
    },
    {
      "cell_type": "code",
      "source": [
        "longest_sequence_asc = sequences_asc.reduce(lambda x, y: x if len(x) > len(y) else y)\n",
        "longest_sequence_desc = sequences_desc.reduce(lambda x, y: x if len(x) > len(y) else y)"
      ],
      "metadata": {
        "id": "Ri9Pwc1QOktW"
      },
      "execution_count": 49,
      "outputs": []
    },
    {
      "cell_type": "code",
      "source": [
        "print(f\"Самая длинная упорядоченная последовательность: {longest_sequence_asc if len(longest_sequence_asc) > len(longest_sequence_desc) else longest_sequence_desc }\")\n",
        ""
      ],
      "metadata": {
        "colab": {
          "base_uri": "https://localhost:8080/"
        },
        "id": "eh-Ncdk6OnN7",
        "outputId": "23f7b830-9d21-4681-b691-73e40c3f2323"
      },
      "execution_count": 50,
      "outputs": [
        {
          "output_type": "stream",
          "name": "stdout",
          "text": [
            "Самая длинная упорядоченная последовательность: [50, 46, 45, 11]\n"
          ]
        }
      ]
    },
    {
      "cell_type": "code",
      "source": [
        "sc.stop()"
      ],
      "metadata": {
        "id": "rVO18GYApAPp"
      },
      "execution_count": 6,
      "outputs": []
    }
  ]
}