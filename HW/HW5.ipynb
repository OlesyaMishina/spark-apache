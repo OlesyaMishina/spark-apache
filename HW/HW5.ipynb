{
  "nbformat": 4,
  "nbformat_minor": 0,
  "metadata": {
    "colab": {
      "provenance": []
    },
    "kernelspec": {
      "name": "python3",
      "display_name": "Python 3"
    },
    "language_info": {
      "name": "python"
    }
  },
  "cells": [
    {
      "cell_type": "markdown",
      "source": [
        "Урок 5. Spark on scala\n",
        "Условие: создайте csv файл с таким содержимым:\n",
        "\n",
        "title,author,genre,sales,year\n",
        "\n",
        "\"1984\", \"George Orwell\", \"Science Fiction\", 5000, 1949\n",
        "\n",
        "\"The Lord of the Rings\", \"J.R.R. Tolkien\", \"Fantasy\", 3000, 1954\n",
        "\n",
        "\"To Kill a Mockingbird\", \"Harper Lee\", \"Southern Gothic\", 4000, 1960\n",
        "\n",
        "\"The Catcher in the Rye\", \"J.D. Salinger\", \"Novel\", 2000, 1951\n",
        "\n",
        "\"The Great Gatsby\", \"F. Scott Fitzgerald\", \"Novel\", 4500, 1925\n",
        "\n",
        "Задание:\n",
        "\n",
        "— Используя Spark прочитайте данные из файла csv.\n",
        "— Фильтруйте данные, чтобы оставить только книги, продажи которых превышают 3000 экземпляров.\n",
        "— Сгруппируйте данные по жанру и вычислите общий объем продаж для каждого жанра.\n",
        "— Отсортируйте данные по общему объему продаж в порядке убывания.\n",
        "— Выведите результаты на экран."
      ],
      "metadata": {
        "id": "WBmT02suUaiv"
      }
    },
    {
      "cell_type": "code",
      "execution_count": null,
      "metadata": {
        "id": "QbgQLcaElCHQ",
        "colab": {
          "base_uri": "https://localhost:8080/"
        },
        "outputId": "c22c0e0e-860b-4f86-c4d9-99eff0b7a658"
      },
      "outputs": [
        {
          "output_type": "stream",
          "name": "stdout",
          "text": [
            "Collecting pyspark\n",
            "  Downloading pyspark-3.5.1.tar.gz (317.0 MB)\n",
            "\u001b[2K     \u001b[90m━━━━━━━━━━━━━━━━━━━━━━━━━━━━━━━━━━━━━━━━\u001b[0m \u001b[32m317.0/317.0 MB\u001b[0m \u001b[31m3.8 MB/s\u001b[0m eta \u001b[36m0:00:00\u001b[0m\n",
            "\u001b[?25h  Preparing metadata (setup.py) ... \u001b[?25l\u001b[?25hdone\n",
            "Requirement already satisfied: py4j==0.10.9.7 in /usr/local/lib/python3.10/dist-packages (from pyspark) (0.10.9.7)\n",
            "Building wheels for collected packages: pyspark\n",
            "  Building wheel for pyspark (setup.py) ... \u001b[?25l\u001b[?25hdone\n",
            "  Created wheel for pyspark: filename=pyspark-3.5.1-py2.py3-none-any.whl size=317488491 sha256=deb250ef9bb1333f81da0be23528a6c69e84e32ed51b511066826928fba170df\n",
            "  Stored in directory: /root/.cache/pip/wheels/80/1d/60/2c256ed38dddce2fdd93be545214a63e02fbd8d74fb0b7f3a6\n",
            "Successfully built pyspark\n",
            "Installing collected packages: pyspark\n",
            "Successfully installed pyspark-3.5.1\n"
          ]
        }
      ],
      "source": [
        "! pip install pyspark"
      ]
    },
    {
      "cell_type": "code",
      "source": [
        "# Импорт требуемых модулей\n",
        "from pyspark.sql import SparkSession\n",
        "from pyspark.sql import functions as F\n",
        "import os"
      ],
      "metadata": {
        "id": "FZiwWz6JlyCX"
      },
      "execution_count": 22,
      "outputs": []
    },
    {
      "cell_type": "code",
      "source": [
        "data = [(\"1984\", \"George Orwell\", \"Science Fiction\", 5000, 1949),\n",
        "(\"The Lord of the Rings\", \"J.R.R. Tolkien\", \"Fantasy\", 3000, 1954),\n",
        "(\"To Kill a Mockingbird\", \"Harper Lee\", \"Southern Gothic\", 4000, 1960),\n",
        "(\"The Catcher in the Rye\", \"J.D. Salinger\", \"Novel\", 2000, 1951),\n",
        "(\"The Great Gatsby\", \"F. Scott Fitzgerald\", \"Novel\", 4500, 1925)\n",
        "]\n",
        "\n",
        "schema = ['title', 'author', 'genre', 'sales', 'year']"
      ],
      "metadata": {
        "id": "PVneipoFOSue"
      },
      "execution_count": 23,
      "outputs": []
    },
    {
      "cell_type": "code",
      "source": [
        "# Установка сессии spark\n",
        "spark = SparkSession.builder.appName('CreateCSV').getOrCreate()\n",
        "\n",
        "# Создаем dataframe\n",
        "df = spark.createDataFrame(data=data, schema = schema)\n",
        "df.show()"
      ],
      "metadata": {
        "colab": {
          "base_uri": "https://localhost:8080/"
        },
        "id": "HwZtQCf5F8r3",
        "outputId": "f76d6904-211b-4b7e-8c90-f828a73556b5"
      },
      "execution_count": 24,
      "outputs": [
        {
          "output_type": "stream",
          "name": "stdout",
          "text": [
            "+--------------------+-------------------+---------------+-----+----+\n",
            "|               title|             author|          genre|sales|year|\n",
            "+--------------------+-------------------+---------------+-----+----+\n",
            "|                1984|      George Orwell|Science Fiction| 5000|1949|\n",
            "|The Lord of the R...|     J.R.R. Tolkien|        Fantasy| 3000|1954|\n",
            "|To Kill a Mocking...|         Harper Lee|Southern Gothic| 4000|1960|\n",
            "|The Catcher in th...|      J.D. Salinger|          Novel| 2000|1951|\n",
            "|    The Great Gatsby|F. Scott Fitzgerald|          Novel| 4500|1925|\n",
            "+--------------------+-------------------+---------------+-----+----+\n",
            "\n"
          ]
        }
      ]
    },
    {
      "cell_type": "code",
      "source": [
        "# Записываем файл в папку 'data' на GoogleColab\n",
        "\n",
        "df.repartition(1).write.csv('data', mode=\"overwrite\", header=True)\n",
        "spark.stop()"
      ],
      "metadata": {
        "id": "wUEsz3ZrhzcA"
      },
      "execution_count": 25,
      "outputs": []
    },
    {
      "cell_type": "code",
      "source": [
        "# Установка сессии spark\n",
        "spark = SparkSession.builder.appName('HW5').getOrCreate()\n",
        "\n",
        "# Читаем данные из файла\n",
        "df = spark.read.format(\"csv\").option(\"header\",True) \\\n",
        "     .load(f\"/content/data/{[f for f in os.listdir('/content/data/') if f[-4:] == '.csv'][0]}\")\n",
        "\n",
        "# Конвертируем данные string -> int\n",
        "df = df.withColumn('sales',df['sales'].cast('int'))\n",
        "df = df.withColumn('year',df['year'].cast('int'))\n",
        "\n",
        "df.show()"
      ],
      "metadata": {
        "id": "qu4V5zmJ47aF",
        "colab": {
          "base_uri": "https://localhost:8080/"
        },
        "outputId": "8955f36b-cfe8-43e2-f050-9f1448e49f43"
      },
      "execution_count": 27,
      "outputs": [
        {
          "output_type": "stream",
          "name": "stdout",
          "text": [
            "+--------------------+-------------------+---------------+-----+----+\n",
            "|               title|             author|          genre|sales|year|\n",
            "+--------------------+-------------------+---------------+-----+----+\n",
            "|                1984|      George Orwell|Science Fiction| 5000|1949|\n",
            "|The Lord of the R...|     J.R.R. Tolkien|        Fantasy| 3000|1954|\n",
            "|To Kill a Mocking...|         Harper Lee|Southern Gothic| 4000|1960|\n",
            "|The Catcher in th...|      J.D. Salinger|          Novel| 2000|1951|\n",
            "|    The Great Gatsby|F. Scott Fitzgerald|          Novel| 4500|1925|\n",
            "+--------------------+-------------------+---------------+-----+----+\n",
            "\n"
          ]
        }
      ]
    },
    {
      "cell_type": "code",
      "source": [
        "# Фильтруйте данные, чтобы оставить только книги, продажи которых превышают 3000 экземпляров\n",
        "df_more_3000 = df.filter(F.col('sales') > 3000)\n",
        "df_more_3000.show()"
      ],
      "metadata": {
        "colab": {
          "base_uri": "https://localhost:8080/"
        },
        "id": "Oq-6xDuGNUXY",
        "outputId": "cf5b5a7d-948b-4e1f-8b76-7d7b784310eb"
      },
      "execution_count": 29,
      "outputs": [
        {
          "output_type": "stream",
          "name": "stdout",
          "text": [
            "+--------------------+-------------------+---------------+-----+----+\n",
            "|               title|             author|          genre|sales|year|\n",
            "+--------------------+-------------------+---------------+-----+----+\n",
            "|                1984|      George Orwell|Science Fiction| 5000|1949|\n",
            "|To Kill a Mocking...|         Harper Lee|Southern Gothic| 4000|1960|\n",
            "|    The Great Gatsby|F. Scott Fitzgerald|          Novel| 4500|1925|\n",
            "+--------------------+-------------------+---------------+-----+----+\n",
            "\n"
          ]
        }
      ]
    },
    {
      "cell_type": "code",
      "source": [
        "# Сгруппируйте данные по жанру и вычислите общий объем продаж для каждого жанра.\n",
        "df_genre_sales1 = df_more_3000.groupBy('genre').sum('sales') \\\n",
        "             .withColumnRenamed('sum(sales)', 'total_sales')\n",
        "df_genre_sales1.show()"
      ],
      "metadata": {
        "colab": {
          "base_uri": "https://localhost:8080/"
        },
        "id": "DU52juOzOgd4",
        "outputId": "0a3ac730-94a5-4701-d179-18c90f8fc13c"
      },
      "execution_count": 32,
      "outputs": [
        {
          "output_type": "stream",
          "name": "stdout",
          "text": [
            "+---------------+-----------+\n",
            "|          genre|total_sales|\n",
            "+---------------+-----------+\n",
            "|Southern Gothic|       4000|\n",
            "|          Novel|       4500|\n",
            "|Science Fiction|       5000|\n",
            "+---------------+-----------+\n",
            "\n"
          ]
        }
      ]
    },
    {
      "cell_type": "code",
      "source": [
        "#Не очень понятно какие именно данные группировать, сделаю и для первоначального датасета\n",
        "df_genre_sales2  = df.groupBy('genre').sum('sales') \\\n",
        "            .withColumnRenamed('sum(sales)', 'total_sales')\n",
        "df_genre_sales2.show()"
      ],
      "metadata": {
        "colab": {
          "base_uri": "https://localhost:8080/"
        },
        "id": "IV-sR733ZojA",
        "outputId": "2e87df9d-1e97-44dc-e0c9-01d80efc0c6d"
      },
      "execution_count": 39,
      "outputs": [
        {
          "output_type": "stream",
          "name": "stdout",
          "text": [
            "+---------------+-----------+\n",
            "|          genre|total_sales|\n",
            "+---------------+-----------+\n",
            "|Southern Gothic|       4000|\n",
            "|          Novel|       6500|\n",
            "|        Fantasy|       3000|\n",
            "|Science Fiction|       5000|\n",
            "+---------------+-----------+\n",
            "\n"
          ]
        }
      ]
    },
    {
      "cell_type": "code",
      "source": [
        "#  Отсортируйте данные по общему объему продаж в порядке убывания\n",
        "df_sort1 = df_genre_sales1.sort(F.col('total_sales').desc())\n",
        "df_sort1.show()"
      ],
      "metadata": {
        "colab": {
          "base_uri": "https://localhost:8080/"
        },
        "id": "tEaf1s-fO-1H",
        "outputId": "d4a920d8-0f91-4f8b-baef-cacb7b8f026a"
      },
      "execution_count": 41,
      "outputs": [
        {
          "output_type": "stream",
          "name": "stdout",
          "text": [
            "+---------------+-----------+\n",
            "|          genre|total_sales|\n",
            "+---------------+-----------+\n",
            "|Science Fiction|       5000|\n",
            "|          Novel|       4500|\n",
            "|Southern Gothic|       4000|\n",
            "+---------------+-----------+\n",
            "\n"
          ]
        }
      ]
    },
    {
      "cell_type": "code",
      "source": [
        "#  Отсортируйте данные по общему объему продаж в порядке убывания\n",
        "df_sort2 = df_genre_sales2.sort(F.col('total_sales').desc())\n",
        "df_sort2.show()"
      ],
      "metadata": {
        "colab": {
          "base_uri": "https://localhost:8080/"
        },
        "id": "8AIRKC95bEca",
        "outputId": "f7f49f7c-f173-4ba7-95b4-cb031dd0f03f"
      },
      "execution_count": 44,
      "outputs": [
        {
          "output_type": "stream",
          "name": "stdout",
          "text": [
            "+---------------+-----------+\n",
            "|          genre|total_sales|\n",
            "+---------------+-----------+\n",
            "|          Novel|       6500|\n",
            "|Science Fiction|       5000|\n",
            "|Southern Gothic|       4000|\n",
            "|        Fantasy|       3000|\n",
            "+---------------+-----------+\n",
            "\n"
          ]
        }
      ]
    },
    {
      "cell_type": "code",
      "source": [
        "spark.stop()"
      ],
      "metadata": {
        "id": "3VstS-FVMz5Z"
      },
      "execution_count": 45,
      "outputs": []
    },
    {
      "cell_type": "code",
      "source": [],
      "metadata": {
        "id": "RIfc_YMWTP2u"
      },
      "execution_count": null,
      "outputs": []
    }
  ]
}