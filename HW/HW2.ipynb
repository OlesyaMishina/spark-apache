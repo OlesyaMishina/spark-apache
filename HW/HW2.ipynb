{
  "nbformat": 4,
  "nbformat_minor": 0,
  "metadata": {
    "colab": {
      "provenance": []
    },
    "kernelspec": {
      "name": "python3",
      "display_name": "Python 3"
    },
    "language_info": {
      "name": "python"
    }
  },
  "cells": [
    {
      "cell_type": "code",
      "source": [
        "#Устанавливаем pySpark\n",
        "!pip install pyspark >> None"
      ],
      "metadata": {
        "id": "u9_i1TqpZGR1"
      },
      "execution_count": 1,
      "outputs": []
    },
    {
      "cell_type": "code",
      "source": [
        "import pyspark\n",
        "from pyspark.sql.functions import col"
      ],
      "metadata": {
        "id": "2MHgjKWVtqTs"
      },
      "execution_count": 64,
      "outputs": []
    },
    {
      "cell_type": "markdown",
      "source": [
        "### Домашнее задание\n",
        "\n",
        "### Условие: дана таблица с колонками (id, name, salary, managerId), студентам необходимо написать код на spark, который создаст эту таблицу (данные указаны ниже) и в результате выдаст таблицу в которой будут имена сотрудников, которые зарабатывают больше своих менеджеров.\n",
        "\n",
        "Данные для таблицы:\n"
      ],
      "metadata": {
        "id": "6OAOCIkSamLp"
      }
    },
    {
      "cell_type": "code",
      "source": [
        "data = [(1, \"Joe\", 70, 3),\n",
        "        (2, \"Henry\", 80, 4),\n",
        "        (3, \"Sam\", 60, None),\n",
        "        (4, \"Max\", 90, None)]"
      ],
      "metadata": {
        "id": "jU_wRNHbappb"
      },
      "execution_count": 68,
      "outputs": []
    },
    {
      "cell_type": "markdown",
      "source": [
        "Результат должен быть:\n",
        "Joe (табличка с одной строкой и одним столбцом со значением Joe)\n"
      ],
      "metadata": {
        "id": "kI8uR6Xpb7XI"
      }
    },
    {
      "cell_type": "code",
      "source": [
        " # Создание Spark сессии\n",
        "spark = SparkSession.builder.appName(\"HW2\").getOrCreate()"
      ],
      "metadata": {
        "id": "FY81fRCbVzUu"
      },
      "execution_count": 69,
      "outputs": []
    },
    {
      "cell_type": "code",
      "source": [
        "# Создаем DataFrame\n",
        "df = spark.createDataFrame(data, [\"Id\", \"name\", \"Salary\", \"managerId\"])\n",
        "\n",
        "# Выводим созданную таблицу\n",
        "df.show()"
      ],
      "metadata": {
        "colab": {
          "base_uri": "https://localhost:8080/"
        },
        "id": "qnwx-UfmWWL7",
        "outputId": "aebcb901-0151-4eb1-b6e5-cd408a1522ab"
      },
      "execution_count": 70,
      "outputs": [
        {
          "output_type": "stream",
          "name": "stdout",
          "text": [
            "+---+-----+------+---------+\n",
            "| Id| name|Salary|managerId|\n",
            "+---+-----+------+---------+\n",
            "|  1|  Joe|    70|        3|\n",
            "|  2|Henry|    80|        4|\n",
            "|  3|  Sam|    60|     NULL|\n",
            "|  4|  Max|    90|     NULL|\n",
            "+---+-----+------+---------+\n",
            "\n"
          ]
        }
      ]
    },
    {
      "cell_type": "code",
      "source": [
        "joined_df = df.alias('employees').join(df.alias('managers'), col('employees.managerId')==col('managers.id'))\n",
        "joined_df.show()"
      ],
      "metadata": {
        "colab": {
          "base_uri": "https://localhost:8080/"
        },
        "id": "CYxZiJeGtrV5",
        "outputId": "6c0b2abc-278b-4b37-e3ab-d0f21dcef52b"
      },
      "execution_count": 71,
      "outputs": [
        {
          "output_type": "stream",
          "name": "stdout",
          "text": [
            "+---+-----+------+---------+---+----+------+---------+\n",
            "| Id| name|Salary|managerId| Id|name|Salary|managerId|\n",
            "+---+-----+------+---------+---+----+------+---------+\n",
            "|  1|  Joe|    70|        3|  3| Sam|    60|     NULL|\n",
            "|  2|Henry|    80|        4|  4| Max|    90|     NULL|\n",
            "+---+-----+------+---------+---+----+------+---------+\n",
            "\n"
          ]
        }
      ]
    },
    {
      "cell_type": "code",
      "source": [
        "result = joined_df.filter(col('employees.salary')>col('managers.salary')).select('employees.name')\n",
        "result.show()"
      ],
      "metadata": {
        "colab": {
          "base_uri": "https://localhost:8080/"
        },
        "id": "3McdlWh44BL7",
        "outputId": "d441935f-5b2d-46eb-8c98-bf9d5a75bbbf"
      },
      "execution_count": 72,
      "outputs": [
        {
          "output_type": "stream",
          "name": "stdout",
          "text": [
            "+----+\n",
            "|name|\n",
            "+----+\n",
            "| Joe|\n",
            "+----+\n",
            "\n"
          ]
        }
      ]
    },
    {
      "cell_type": "code",
      "source": [
        "spark.stop()"
      ],
      "metadata": {
        "id": "MT3JNnfU4ku3"
      },
      "execution_count": 73,
      "outputs": []
    }
  ]
}